{
 "cells": [
  {
   "cell_type": "code",
   "execution_count": null,
   "metadata": {},
   "outputs": [],
   "source": [
    "import os\n",
    "from tqdm import tqdm\n",
    "from PIL import Image"
   ]
  },
  {
   "cell_type": "code",
   "execution_count": null,
   "metadata": {},
   "outputs": [],
   "source": [
    "target_size = 512\n",
    "img_path_origin = '/media/trinhnh1/3A08638408633DCF/kaggle/human-protein/input/HPA_v18_RGBY/img/train/'\n",
    "img_path_resize = '/media/trinhnh1/3A08638408633DCF/kaggle/human-protein/input/HPA_v18_RGBY/img/train_resize/'\n",
    "img_lists = os.listdir(img_path_origin)"
   ]
  },
  {
   "cell_type": "code",
   "execution_count": null,
   "metadata": {},
   "outputs": [],
   "source": [
    "# version 1: one thread\n",
    "# convert image to 512*512 then save it\n",
    "for img in tqdm(img_lists):\n",
    "    img_origin = Image.open(img_path_origin + img)\n",
    "    img_resize = img_origin.resize((target_size, target_size), Image.CUBIC)\n",
    "    img_resize.save(img_path_resize+img)"
   ]
  },
  {
   "cell_type": "code",
   "execution_count": null,
   "metadata": {},
   "outputs": [],
   "source": [
    "# version 2: multiple threads\n",
    "from PIL import Image, ImageOps\n",
    "from PIL import ImageFile\n",
    "import glob\n",
    "from shutil import copyfile\n",
    "from multiprocessing import Process\n",
    "from multiprocessing import Pool\n",
    "\n",
    "ImageFile.LOAD_TRUNCATED_IMAGES = True\n",
    "\n",
    "def transfer(image_path):\n",
    "    output_path = '/media/trinhnh1/3A08638408633DCF/kaggle/human-protein/input/test_img/\n",
    "    if str(image_path.split('/')[-1][:-4] + '.jpg') in glob.glob(output_path + '.jpg'):\n",
    "        return\n",
    "    im = Image.open(image_path)\n",
    "    im.save(output_path + image_path.split('/')[-1][:-4] + '.jpg')\n",
    "\n",
    "def full_pading(image_path, desired_size=512):\n",
    "    output_path = '/media/trinhnh1/3A08638408633DCF/kaggle/human-protein/input/HPA_v18_RGBY/img/train_resize/'\n",
    "    im = Image.open(image_path)\n",
    "    old_size = im.size  # old_size[0] is in (width, height) format\n",
    "\n",
    "    ratio = float(desired_size)/max(old_size)\n",
    "    new_size = tuple([int(x*ratio) for x in old_size])\n",
    "\n",
    "    # using thumbnai() or resize() method to resize the input image and keep its aspect ratio\n",
    "    im.thumbnail(new_size, Image.ANTIALIAS)\n",
    "\n",
    "    # or we can expand the resized image by adding borders to its 4 side\n",
    "    delta_w = desired_size - new_size[0]\n",
    "    delta_h = desired_size - new_size[1]\n",
    "    padding = (delta_w//2, delta_h//2, delta_w-(delta_w//2), delta_h-(delta_h//2))\n",
    "\n",
    "    new_im = ImageOps.expand(im, padding, fill=\"black\")\n",
    "    new_im.save(output_path + image_path.split('/')[-1])\n",
    "\n",
    "def preprocessing():\n",
    "    input_path = '/media/trinhnh1/3A08638408633DCF/kaggle/human-protein/input/HPA_v18_RGBY/img/train/'\n",
    "    with Pool(40) as p:\n",
    "        p.map(full_pading, glob.glob(input_path + '/*.jpg'))\n",
    "    '''\n",
    "    procs = []\n",
    "    for image_path in glob.glob(input_path + '/*'):\n",
    "        proc = Process(target=full_pading, args=(image_path,))\n",
    "        procs.append(proc)\n",
    "        proc.start()\n",
    "        proc.join()\n",
    "    '''\n",
    "def png_to_jpg():\n",
    "    raw_input_path = '/media/trinhnh1/3A08638408633DCF/kaggle/human-protein/input/test/\n",
    "    with Pool(40) as p:\n",
    "        p.map(transfer, glob.glob(raw_input_path + '/*.png'))\n",
    "\n",
    "if __name__ == '__main__':\n",
    "    preprocessing()\n",
    "    \n",
    "    #png_to_jpg()"
   ]
  }
 ],
 "metadata": {
  "kernelspec": {
   "display_name": "Python 3",
   "language": "python",
   "name": "python3"
  },
  "language_info": {
   "codemirror_mode": {
    "name": "ipython",
    "version": 3
   },
   "file_extension": ".py",
   "mimetype": "text/x-python",
   "name": "python",
   "nbconvert_exporter": "python",
   "pygments_lexer": "ipython3",
   "version": "3.6.5"
  }
 },
 "nbformat": 4,
 "nbformat_minor": 2
}
