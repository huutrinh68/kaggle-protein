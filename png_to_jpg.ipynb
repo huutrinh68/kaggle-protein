{
 "cells": [
  {
   "cell_type": "code",
   "execution_count": 2,
   "metadata": {},
   "outputs": [],
   "source": [
    "from PIL import Image, ImageOps\n",
    "from PIL import ImageFile\n",
    "import glob\n",
    "from shutil import copyfile\n",
    "from multiprocessing import Process\n",
    "from multiprocessing import Pool\n",
    "\n",
    "ImageFile.LOAD_TRUNCATED_IMAGES = True"
   ]
  },
  {
   "cell_type": "code",
   "execution_count": 11,
   "metadata": {},
   "outputs": [],
   "source": [
    "def transfer(image_path):\n",
    "    output_path = '/media/trinhnh1/3A08638408633DCF/kaggle/human-protein/input/train_jpg/'\n",
    "    if str(image_path.split('/')[-1][:-4] + '.jpg') in glob.glob(output_path + '.jpg'):\n",
    "        return\n",
    "    im = Image.open(image_path)\n",
    "    im.save(output_path + image_path.split('/')[-1][:-4] + '.jpg')\n",
    "    \n",
    "def png_to_jpg():\n",
    "    raw_input_path = '/media/trinhnh1/3A08638408633DCF/kaggle/human-protein/input/train/'\n",
    "    with Pool(40) as p:\n",
    "        p.map(transfer, glob.glob(raw_input_path + '/*.png'))"
   ]
  },
  {
   "cell_type": "code",
   "execution_count": 12,
   "metadata": {},
   "outputs": [],
   "source": [
    "if __name__ == '__main__':\n",
    "    png_to_jpg()"
   ]
  },
  {
   "cell_type": "code",
   "execution_count": null,
   "metadata": {},
   "outputs": [],
   "source": []
  }
 ],
 "metadata": {
  "kernelspec": {
   "display_name": "Python 3",
   "language": "python",
   "name": "python3"
  },
  "language_info": {
   "codemirror_mode": {
    "name": "ipython",
    "version": 3
   },
   "file_extension": ".py",
   "mimetype": "text/x-python",
   "name": "python",
   "nbconvert_exporter": "python",
   "pygments_lexer": "ipython3",
   "version": "3.6.5"
  }
 },
 "nbformat": 4,
 "nbformat_minor": 2
}
