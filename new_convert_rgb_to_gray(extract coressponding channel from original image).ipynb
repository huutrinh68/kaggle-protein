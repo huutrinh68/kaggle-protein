{
 "cells": [
  {
   "cell_type": "code",
   "execution_count": 1,
   "metadata": {},
   "outputs": [],
   "source": [
    "import os\n",
    "import numpy as np\n",
    "from tqdm import tqdm\n",
    "from PIL import Image\n",
    "import matplotlib.pyplot as plt\n",
    "\n",
    "in_path = \"/media/trinhnh1/3A08638408633DCF/kaggle/human-protein/input/external_data/img/train_resize/\" #(include original external data, image size: 512)\n",
    "out_path = \"/media/trinhnh1/3A08638408633DCF/kaggle/human-protein/input/external_data/img/train_gray/\"\n",
    "\n",
    "all_files = os.listdir(in_path)"
   ]
  },
  {
   "cell_type": "code",
   "execution_count": 2,
   "metadata": {},
   "outputs": [
    {
     "name": "stdout",
     "output_type": "stream",
     "text": [
      "['47038_753_B7_2_yellow.jpg', '10005_921_B9_1_blue.jpg', '10005_921_B9_1_green.jpg', '10005_921_B9_1_red.jpg', '10005_921_B9_1_yellow.jpg', '10005_921_B9_2_blue.jpg', '10005_921_B9_2_green.jpg', '10005_921_B9_2_red.jpg', '10005_921_B9_2_yellow.jpg', '10005_923_B9_1_blue.jpg']\n"
     ]
    }
   ],
   "source": [
    "print(all_files[:10])"
   ]
  },
  {
   "cell_type": "code",
   "execution_count": 4,
   "metadata": {
    "scrolled": true
   },
   "outputs": [
    {
     "name": "stderr",
     "output_type": "stream",
     "text": [
      " 65%|██████▌   | 195023/298366 [20:58<13:02, 132.02it/s]"
     ]
    },
    {
     "name": "stdout",
     "output_type": "stream",
     "text": [
      "24089_si27_F4_11_blue.jpg hasnt 3 channels.\n"
     ]
    },
    {
     "name": "stderr",
     "output_type": "stream",
     "text": [
      "100%|██████████| 298366/298366 [57:13<00:00, 86.91it/s]  \n"
     ]
    }
   ],
   "source": [
    "# fig = plt.figure(figsize=(15,15),dpi=150)\n",
    "\n",
    "for file in tqdm(all_files):\n",
    "    # read image\n",
    "    img = Image.open(in_path+file)\n",
    "    \n",
    "    # get channel info\n",
    "    channel = file.split('_')[-1].split('.')[0]\n",
    "\n",
    "    # split image into 3 channels\n",
    "    if len(np.array(img).shape) == 3 and np.array(img).shape[2] == 3:\n",
    "        r, g, b = img.split()\n",
    "        \n",
    "        # save image\n",
    "        if channel == 'red':\n",
    "            r.save(out_path+file)\n",
    "\n",
    "        elif channel == 'green':\n",
    "            g.save(out_path+file)\n",
    "\n",
    "        elif channel == 'blue':\n",
    "            b.save(out_path+file)\n",
    "\n",
    "        elif channel == 'yellow':\n",
    "            y = Image.blend(r, g, 0.5)\n",
    "    #         plt.subplot(141).set_title('r image')\n",
    "    #         plt.imshow(r)\n",
    "    #         plt.subplot(142).set_title('g image')\n",
    "    #         plt.imshow(g)\n",
    "    #         plt.subplot(143).set_title('y image')\n",
    "    #         plt.imshow(y)\n",
    "    #         plt.subplot(144).set_title('rbg image of Y channel')\n",
    "    #         plt.imshow(img)\n",
    "            y.save(out_path+file)\n",
    "        else:\n",
    "            print('{} RGBY image is not exist!'.format(file))\n",
    "            continue\n",
    "    else:\n",
    "        print('{} hasnt 3 channels.'.format(file))\n",
    "        continue"
   ]
  },
  {
   "cell_type": "code",
   "execution_count": null,
   "metadata": {},
   "outputs": [],
   "source": []
  }
 ],
 "metadata": {
  "kernelspec": {
   "display_name": "Python 3",
   "language": "python",
   "name": "python3"
  },
  "language_info": {
   "codemirror_mode": {
    "name": "ipython",
    "version": 3
   },
   "file_extension": ".py",
   "mimetype": "text/x-python",
   "name": "python",
   "nbconvert_exporter": "python",
   "pygments_lexer": "ipython3",
   "version": "3.6.5"
  }
 },
 "nbformat": 4,
 "nbformat_minor": 2
}
