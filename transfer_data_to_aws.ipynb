{
 "cells": [
  {
   "cell_type": "code",
   "execution_count": 13,
   "metadata": {},
   "outputs": [],
   "source": [
    "# scp to aws\n",
    "import os\n",
    "from pathlib import Path\n",
    "from tqdm import tqdm"
   ]
  },
  {
   "cell_type": "code",
   "execution_count": 3,
   "metadata": {},
   "outputs": [
    {
     "data": {
      "text/plain": [
       "298366"
      ]
     },
     "execution_count": 3,
     "metadata": {},
     "output_type": "execute_result"
    }
   ],
   "source": [
    "path = '/media/trinhnh1/3A08638408633DCF/kaggle/human-protein/input/HPA_v18_RGBY/img/train_resize/'\n",
    "img_lists = os.listdir(path)\n",
    "len(img_lists)"
   ]
  },
  {
   "cell_type": "code",
   "execution_count": 4,
   "metadata": {},
   "outputs": [
    {
     "data": {
      "text/plain": [
       "['47038_753_B7_2_yellow.jpg',\n",
       " '10005_921_B9_1_blue.jpg',\n",
       " '10005_921_B9_1_green.jpg',\n",
       " '10005_921_B9_1_red.jpg',\n",
       " '10005_921_B9_1_yellow.jpg',\n",
       " '10005_921_B9_2_blue.jpg',\n",
       " '10005_921_B9_2_green.jpg',\n",
       " '10005_921_B9_2_red.jpg',\n",
       " '10005_921_B9_2_yellow.jpg',\n",
       " '10005_923_B9_1_blue.jpg']"
      ]
     },
     "execution_count": 4,
     "metadata": {},
     "output_type": "execute_result"
    }
   ],
   "source": [
    "img_lists[:10]"
   ]
  },
  {
   "cell_type": "code",
   "execution_count": 26,
   "metadata": {},
   "outputs": [],
   "source": [
    "# for img in tqdm(img_lists[:10]):\n",
    "#     img_name = path+img\n",
    "#     print(img_name)\n",
    "#     !sshpass -p swientwist scp img_name scientist@54.65.140.98:/home/scientist/data/train_0_49999/\n",
    "# #     !sshpass -p \"swientwist\" scp /media/trinhnh1/3A08638408633DCF/kaggle/human-protein/input/HPA_v18_RGBY/img/train_resize/47038_753_B7_2_yellow.jpg scientist@54.65.140.98:/home/scientist/data/train_0_49999/"
   ]
  },
  {
   "cell_type": "code",
   "execution_count": 28,
   "metadata": {},
   "outputs": [],
   "source": [
    "!sshpass -p \"swientwist\" \\\n",
    "scp /media/trinhnh1/3A08638408633DCF/kaggle/human-protein/input/HPA_v18_RGBY/img/train_resize.zip \\\n",
    "scientist@54.65.140.98:/home/scientist/data/"
   ]
  },
  {
   "cell_type": "code",
   "execution_count": null,
   "metadata": {},
   "outputs": [],
   "source": []
  }
 ],
 "metadata": {
  "kernelspec": {
   "display_name": "Python 3",
   "language": "python",
   "name": "python3"
  },
  "language_info": {
   "codemirror_mode": {
    "name": "ipython",
    "version": 3
   },
   "file_extension": ".py",
   "mimetype": "text/x-python",
   "name": "python",
   "nbconvert_exporter": "python",
   "pygments_lexer": "ipython3",
   "version": "3.6.5"
  }
 },
 "nbformat": 4,
 "nbformat_minor": 2
}
